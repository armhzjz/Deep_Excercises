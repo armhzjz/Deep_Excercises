{
 "nbformat": 4,
 "nbformat_minor": 2,
 "metadata": {
  "language_info": {
   "name": "python",
   "codemirror_mode": {
    "name": "ipython",
    "version": 3
   },
   "version": "3.6.10-final"
  },
  "orig_nbformat": 2,
  "file_extension": ".py",
  "mimetype": "text/x-python",
  "name": "python",
  "npconvert_exporter": "python",
  "pygments_lexer": "ipython3",
  "version": 3,
  "kernelspec": {
   "name": "python361064bitdeeplearningconda05e7ff6c67b84a8789234f14068707f7",
   "display_name": "Python 3.6.10 64-bit ('deep-learning': conda)"
  }
 },
 "cells": [
  {
   "cell_type": "markdown",
   "execution_count": null,
   "metadata": {},
   "outputs": [],
   "source": [
    "# Training a RNN model to learn synonyms on the German Language"
   ]
  },
  {
   "cell_type": "markdown",
   "metadata": {},
   "source": [
    "Word2vec is a technique for natural language processing. The word2vec algorithm uses a neural network model to learn word associations from a large corpus of text. Once trained, such a model can detect synonymous words or suggest additional words for a partial sentence. As the name implies, word2vec represents each distinct word with a particular list of numbers called a vector. The vectors are chosen carefully such that a simple mathematical function (the cosine similarity between the vectors) indicates the level of semantic similarity between the words represented by those vectors."
   ]
  },
  {
   "cell_type": "code",
   "execution_count": 1,
   "metadata": {},
   "outputs": [],
   "source": [
    "import re"
   ]
  },
  {
   "cell_type": "markdown",
   "execution_count": null,
   "metadata": {},
   "outputs": [],
   "source": [
    "## Preprocessing the text"
   ]
  },
  {
   "cell_type": "markdown",
   "execution_count": null,
   "metadata": {},
   "outputs": [],
   "source": [
    "### First step of the pre processing\n",
    "\n",
    "The book containes enumerations of the paragraphs of each chapter (i.e. \\[123\\]), references to foot notes in the form of upper text letter and it also enumerates the chapters with both words and numbers -being the numbering format: the chapter number followed by a period (i.e. '.').\n",
    "All of these enumerations, references, etc., must be removed from the text."
   ]
  },
  {
   "cell_type": "code",
   "execution_count": 2,
   "metadata": {},
   "outputs": [],
   "source": [
    "lines = open('Anna Karenina.txt', encoding='utf8').read()\n",
    "\n",
    "lines = re.sub(r\"(?m)^[0-9]*\\.\", r\"\", lines)    # remove numericals at the begining of a line that are followed by a period\n",
    "lines = re.sub(r\"\\[[0-9]*\\]\", r\"\", lines)       # remove enumeration of paragraphs\n",
    "lines = re.sub(r\"\\[[A-Z]*\\]\", r\"\", lines)       # remove references to foot notes\n",
    "lines = re.sub(r\"[\\\"„(—)“\\\"]\", r\"\", lines)      # remove the set of characters\n",
    "lines = re.sub(r\"—\", r\"\", lines)                # remove all the long dashes\n",
    "lines = lines.strip().split()                   # strip the text and divide it using spaces as delimiters"
   ]
  },
  {
   "cell_type": "code",
   "execution_count": 3,
   "metadata": {},
   "outputs": [
    {
     "data": {
      "text/plain": "['Erster',\n 'Teil.',\n 'Die',\n 'Rache',\n 'ist',\n 'mein,',\n 'ich',\n 'will',\n 'vergelten.',\n 'Alle',\n 'glücklichen',\n 'Familien',\n 'sind',\n 'einander',\n 'ähnlich;',\n 'jede',\n 'unglückliche',\n 'Familie',\n 'ist',\n 'auf',\n 'ihre',\n 'Weise',\n 'unglücklich.',\n 'Im',\n 'Hause',\n 'der',\n 'Oblonskiy',\n 'herrschte',\n 'allgemeine',\n 'Verwirrung.',\n 'Die',\n 'Dame',\n 'des',\n 'Hauses',\n 'hatte',\n 'in',\n 'Erfahrung',\n 'gebracht,',\n 'daß',\n 'ihr',\n 'Gatte',\n 'mit',\n 'der',\n 'im',\n 'Hause',\n 'gewesenen',\n 'französischen',\n 'Gouvernante',\n 'ein',\n 'Verhältnis',\n 'unterhalten,',\n 'und',\n 'ihm',\n 'erklärt,',\n 'sie',\n 'könne',\n 'fürderhin',\n 'nicht',\n 'mehr',\n 'mit',\n 'ihm',\n 'unter',\n 'einem',\n 'Dache',\n 'bleiben.',\n 'Diese',\n 'Situation',\n 'währte',\n 'bereits',\n 'seit',\n 'drei',\n 'Tagen',\n 'und',\n 'sie',\n 'wurde',\n 'nicht',\n 'allein',\n 'von',\n 'den',\n 'beiden',\n 'Ehegatten',\n 'selbst,',\n 'nein',\n 'auch',\n 'von',\n 'allen',\n 'Familienmitgliedern',\n 'und',\n 'dem',\n 'Personal',\n 'aufs',\n 'Peinlichste',\n 'empfunden.',\n 'Sie',\n 'alle',\n 'fühlten,',\n 'daß',\n 'in',\n 'ihrem',\n 'Zusammenleben',\n 'kein',\n 'höherer',\n 'Gedanke',\n 'mehr',\n 'liege,',\n 'daß',\n 'die',\n 'Leute,',\n 'welche',\n 'auf',\n 'jeder',\n 'Poststation',\n 'sich',\n 'zufällig',\n 'träfen,',\n 'noch',\n 'enger',\n 'zu',\n 'einander',\n 'gehörten,',\n 'als',\n 'sie,',\n 'die',\n 'Glieder',\n 'der',\n 'Familie',\n 'selbst,',\n 'und',\n 'das',\n 'im',\n 'Hause',\n 'geborene',\n 'und',\n 'aufgewachsene',\n 'Gesinde',\n 'der',\n 'Oblonskiy.',\n 'Die',\n 'Herrin',\n 'des',\n 'Hauses',\n 'verließ',\n 'ihre',\n 'Gemächer',\n 'nicht,',\n 'der',\n 'Gebieter',\n 'war',\n 'schon',\n 'seit',\n 'drei',\n 'Tagen',\n 'abwesend.',\n 'Die',\n 'Kinder',\n 'liefen',\n 'wie',\n 'verwaist',\n 'im',\n 'ganzen',\n 'Hause',\n 'umher,',\n 'die',\n 'Engländerin',\n 'schalt',\n 'auf',\n 'die',\n 'Wirtschafterin',\n 'und',\n 'schrieb',\n 'an',\n 'eine',\n 'Freundin,',\n 'diese',\n 'möchte',\n 'ihr',\n 'eine',\n 'neue',\n 'Stellung',\n 'verschaffen,',\n 'der',\n 'Koch',\n 'hatte',\n 'bereits',\n 'seit',\n 'gestern',\n 'um',\n 'die',\n 'Mittagszeit',\n 'das',\n 'Haus',\n 'verlassen',\n 'und',\n 'die',\n 'Köchin,',\n 'sowie',\n 'der',\n 'Kutscher',\n 'hatten',\n 'ihre',\n 'Rechnungen',\n 'eingereicht.',\n 'Am',\n 'dritten',\n 'Tage',\n 'nach',\n 'der',\n 'Scene',\n 'erwachte',\n 'der',\n 'Fürst',\n 'Stefan',\n 'Arkadjewitsch',\n 'Oblonskiy',\n 'Stiwa',\n 'hieß',\n 'er',\n 'in',\n 'der',\n 'Welt',\n 'um',\n 'die',\n 'gewöhnliche',\n 'Stunde,',\n 'das',\n 'heißt',\n 'um',\n 'acht',\n 'Uhr',\n 'morgens,',\n 'aber',\n 'nicht',\n 'im',\n 'Schlafzimmer',\n 'seiner',\n 'Gattin,',\n 'sondern',\n 'in',\n 'seinem',\n 'Kabinett',\n 'auf',\n 'dem',\n 'Saffiandiwan.',\n 'Er',\n 'wandte',\n 'seinen',\n 'vollen',\n 'verweichlichten',\n 'Leib',\n 'auf',\n 'den',\n 'Sprungfedern',\n 'des',\n 'Diwans,',\n 'als',\n 'wünsche',\n 'er',\n 'noch',\n 'weiter',\n 'zu',\n 'schlafen,',\n 'während',\n 'er',\n 'von',\n 'der',\n 'andern',\n 'Seite',\n 'innig',\n 'ein',\n 'Kissen',\n 'umfaßte',\n 'und',\n 'an',\n 'die',\n 'Wange',\n 'drückte.',\n 'Plötzlich',\n 'aber',\n 'sprang',\n 'er',\n 'empor,',\n 'setzte',\n 'sich',\n 'aufrecht',\n 'und',\n 'öffnete',\n 'die',\n 'Augen.',\n 'Ja,',\n 'ja,',\n 'wie',\n 'war',\n 'doch',\n 'das?',\n 'sann',\n 'er,',\n 'über',\n 'seinem',\n 'Traum',\n 'grübelnd.',\n 'Wie',\n 'war',\n 'doch',\n 'das?',\n 'Richtig;',\n 'Alabin',\n 'gab',\n 'ein',\n 'Diner',\n 'in',\n 'Darmstadt;',\n 'nein,',\n 'nicht',\n 'in',\n 'Darmstadt,',\n 'es',\n 'war',\n 'so',\n 'etwas',\n 'Amerikanisches',\n 'dabei.',\n 'Dieses',\n 'Darmstadt',\n 'war',\n 'aber',\n 'in',\n 'Amerika,',\n 'ja,',\n 'und',\n 'Alabin',\n 'gab',\n 'das',\n 'Essen',\n 'auf',\n 'gläsernen',\n 'Tischen,',\n 'ja,',\n 'und',\n 'die',\n 'Tische',\n 'sangen:',\n '‚Il',\n 'mio',\n 'tesoro‘',\n 'oder',\n 'nicht',\n 'so,',\n 'es',\n 'war',\n 'etwas',\n 'Besseres,',\n 'und',\n 'gewisse',\n 'kleine',\n 'Karaffen,',\n 'wie',\n 'Frauenzimmer',\n 'aussehend,',\n ';',\n 'fiel',\n 'ihm',\n 'ein.',\n 'Die',\n 'Augen',\n 'Stefan',\n 'Arkadjewitschs',\n 'blitzten',\n 'heiter,',\n 'er',\n 'sann',\n 'und',\n 'lächelte.',\n 'Ja,',\n 'es',\n 'war',\n 'hübsch,',\n 'sehr',\n 'hübsch.',\n 'Es',\n 'gab',\n 'viel',\n 'Ausgezeichnetes',\n 'dabei,',\n 'was',\n 'man',\n 'mit',\n 'Worten',\n 'nicht',\n 'schildern',\n 'könnte',\n 'und',\n 'in',\n 'Gedanken',\n 'nicht',\n 'ausdrücken.',\n 'Er',\n 'bemerkte',\n 'einen',\n 'Lichtstreif,',\n 'der',\n 'sich',\n 'von',\n 'der',\n 'Seite',\n 'durch',\n 'die',\n 'baumwollenen',\n 'Stores',\n 'gestohlen',\n 'hatte',\n 'und',\n 'schnellte',\n 'lustig',\n 'mit',\n 'den',\n 'Füßen',\n 'vom',\n 'Sofa,',\n 'um',\n 'mit',\n 'ihnen',\n 'die',\n 'von',\n 'seiner',\n 'Gattin',\n 'ihm',\n 'im',\n 'vorigen',\n 'Jahr',\n 'zum',\n 'Geburtstag',\n 'verehrten',\n 'gold-',\n 'und',\n 'saffiangestickten',\n 'Pantoffeln',\n 'zu',\n 'suchen;',\n 'während',\n 'er,',\n 'einer',\n 'alten',\n 'neunjährigen',\n 'Gewohnheit',\n 'folgend,',\n 'ohne',\n 'aufzustehen',\n 'mit',\n 'der',\n 'Hand',\n 'nach',\n 'der',\n 'Stelle',\n 'fuhr,',\n 'wo',\n 'in',\n 'dem',\n 'Schlafzimmer',\n 'sonst',\n 'sein',\n 'Morgenrock',\n 'zu',\n 'hängen',\n 'pflegte.',\n 'Hierbei',\n 'erst',\n 'kam',\n 'er',\n 'zur',\n 'Besinnung;',\n 'er',\n 'entsann',\n 'sich',\n 'jäh',\n 'wie',\n 'es',\n 'kam,',\n 'daß',\n 'er',\n 'nicht',\n 'im',\n 'Schlafgemach',\n 'seiner',\n 'Gattin,',\n 'sondern',\n 'in',\n 'dem',\n 'Kabinett',\n 'schlief;',\n 'das',\n 'Lächeln',\n 'verschwand',\n 'von',\n 'seinen',\n 'Zügen',\n 'und',\n 'er',\n 'runzelte',\n 'die',\n 'Stirn.',\n 'O,',\n 'o,',\n 'o,',\n 'ach,',\n 'brach',\n 'er',\n 'jammernd',\n 'aus,',\n 'indem',\n 'ihm',\n 'alles',\n 'wieder',\n 'einfiel,',\n 'was',\n 'vorgefallen',\n 'war.',\n 'Vor',\n 'seinem',\n 'Innern',\n 'erstanden',\n 'von',\n 'neuem',\n 'alle',\n 'die',\n 'Einzelheiten',\n 'des',\n 'Auftritts',\n 'mit',\n 'seiner',\n 'Frau,',\n 'erstand',\n 'die',\n 'ganze',\n 'Mißlichkeit',\n 'seiner',\n 'Lage',\n 'und',\n 'was',\n 'ihm',\n 'am',\n 'peinlichsten',\n 'war',\n 'seine',\n 'eigene',\n 'Schuld.',\n 'Ja',\n 'wohl,',\n 'sie',\n 'wird',\n 'nicht',\n 'verzeihen,',\n 'sie',\n 'kann',\n 'nicht',\n 'verzeihen,',\n 'und',\n 'am',\n 'Schrecklichsten',\n 'ist,',\n 'daß',\n 'die',\n 'Schuld',\n 'an',\n 'allem',\n 'nur',\n 'ich',\n 'selbst',\n 'trage',\n 'ich',\n 'bin',\n 'schuld',\n 'aber',\n 'nicht',\n 'schuldig!',\n 'Und',\n 'hierin',\n 'liegt',\n 'das',\n 'ganze',\n 'Drama,',\n 'dachte',\n 'er,',\n 'o',\n 'weh,',\n 'o',\n 'weh!',\n 'Er',\n 'sprach',\n 'voller',\n 'Verzweiflung,',\n 'indem',\n 'er',\n 'sich',\n 'alle',\n 'die',\n 'tiefen',\n 'Eindrücke',\n 'vergegenwärtigte,',\n 'die',\n 'er',\n 'in',\n 'jener',\n 'Scene',\n 'erhalten.',\n 'Am',\n 'unerquicklichsten',\n 'war',\n 'ihm',\n 'jene',\n 'erste',\n 'Minute',\n 'gewesen,',\n 'da',\n 'er,',\n 'heiter',\n 'und',\n 'zufrieden',\n 'aus',\n 'dem',\n 'Theater',\n 'heimkehrend,',\n 'eine',\n 'ungeheure',\n 'Birne',\n 'für',\n 'seine',\n 'Frau',\n 'in',\n 'der',\n 'Hand,',\n 'diese',\n 'weder',\n 'im',\n 'Salon',\n 'noch',\n 'im',\n 'Kabinett',\n 'fand,',\n 'und',\n 'sie',\n 'endlich',\n 'im',\n 'Schlafzimmer',\n 'antraf,',\n 'jenen',\n 'unglückseligen',\n 'Brief,',\n 'der',\n 'alles',\n 'entdeckte,',\n 'in',\n 'den',\n 'Händen.',\n 'Sie,',\n 'die',\n 'er',\n 'für',\n 'die',\n 'ewig',\n 'sorgende,',\n 'ewig',\n 'sich',\n 'mühende,',\n 'allgegenwärtige',\n 'Dolly',\n 'gehalten,',\n 'sie',\n 'saß',\n 'jetzt',\n 'regungslos,',\n 'den',\n 'Brief',\n 'in',\n 'der',\n 'Hand,',\n 'mit',\n 'dem',\n 'Ausdruck',\n 'des',\n 'Entsetzens,',\n 'der',\n 'Verzweiflung',\n 'und',\n 'der',\n 'Wut',\n 'ihm',\n 'entgegenblickend.',\n 'Was',\n 'ist',\n 'das?',\n 'frug',\n 'sie',\n 'ihn,',\n 'auf',\n 'das',\n 'Schreiben',\n 'weisend,',\n 'und',\n 'in',\n 'der',\n 'Erinnerung',\n 'hieran',\n 'quälte',\n 'ihn,',\n 'wie',\n 'das',\n 'oft',\n 'zu',\n 'geschehen',\n 'pflegt,',\n 'nicht',\n 'sowohl',\n 'der',\n 'Vorfall',\n 'selbst,',\n 'als',\n 'die',\n 'Art,',\n 'wie',\n 'er',\n 'ihr',\n 'auf',\n 'diese',\n 'Worte',\n 'geantwortet',\n 'hatte.',\n 'Es',\n 'ging',\n 'ihm',\n 'in',\n 'diesem',\n 'Augenblick,',\n 'wie',\n 'den',\n 'meisten',\n 'Menschen,',\n 'wenn',\n 'sie',\n 'unerwartet',\n 'eines',\n 'zu',\n 'schmählichen',\n 'Vergehens',\n 'überführt',\n 'werden.',\n 'Er',\n 'verstand',\n 'nicht,',\n 'sein',\n 'Gesicht',\n 'der',\n 'Situation',\n 'anzupassen,',\n 'in',\n 'welche',\n 'er',\n 'nach',\n 'der',\n 'Entdeckung',\n 'seiner',\n 'Schuld',\n 'geraten',\n 'war,',\n 'und',\n 'anstatt',\n 'den',\n 'Gekränkten',\n 'zu',\n 'spielen,',\n 'sich',\n 'zu',\n 'verteidigen,',\n 'sich',\n 'zu',\n 'rechtfertigen',\n 'und',\n 'um',\n 'Verzeihung',\n 'zu',\n 'bitten',\n 'oder',\n 'wenigstens',\n 'gleichmütig',\n 'zu',\n 'bleiben',\n 'alles',\n 'dies',\n 'wäre',\n 'noch',\n 'besser',\n 'gewesen',\n 'als',\n 'das,',\n 'was',\n 'er',\n 'wirklich',\n 'that',\n 'verzogen',\n 'sich',\n 'seine',\n 'Mienen',\n 'Gehirnreflexe',\n 'dachte',\n 'Stefan',\n 'Arkadjewitsch,',\n 'als',\n 'Liebhaber',\n 'von',\n 'Physiologie',\n 'unwillkürlich',\n 'und',\n 'plötzlich',\n 'zu',\n 'seinem',\n 'gewohnten,',\n 'gutmütigen',\n 'und',\n 'daher',\n 'ziemlich',\n 'einfältigen',\n 'Lächeln.',\n 'Dieses',\n 'dumme',\n 'Lächeln',\n 'konnte',\n 'er',\n 'sich',\n 'selbst',\n 'nicht',\n 'vergeben.',\n 'Als',\n 'Dolly',\n 'es',\n 'gewahrt',\n 'hatte,',\n 'erbebte',\n 'sie,',\n 'wie',\n 'von',\n 'einem',\n 'physischen',\n 'Schmerz,',\n 'und',\n 'erging',\n 'sich',\n 'dann',\n 'mit',\n 'der',\n 'ihr',\n 'eigenen',\n 'Leidenschaftlichkeit',\n 'in',\n 'einem',\n 'Strom',\n 'bitterer',\n 'Worte,',\n 'worauf',\n 'sie',\n 'das',\n 'Gemach',\n 'verließ.',\n 'Von',\n 'dieser',\n 'Zeit',\n 'an',\n 'wollte',\n 'sie',\n 'ihren',\n 'Gatten',\n 'nicht',\n 'mehr',\n 'sehen.',\n 'An',\n 'allem',\n 'ist',\n 'das',\n 'dumme',\n 'Lächeln',\n 'schuld,',\n 'dachte',\n 'Stefan',\n 'Arkadjewitsch.',\n 'Aber',\n 'was',\n 'soll',\n 'ich',\n 'thun,',\n 'was',\n 'soll',\n 'ich',\n 'thun?',\n 'frug',\n 'er',\n 'voll',\n 'Verzweiflung',\n 'sich',\n 'selbst,',\n 'ohne',\n 'eine',\n 'Antwort',\n 'zu',\n 'finden.',\n 'Stefan',\n 'Arkadjewitsch',\n 'war',\n 'ein',\n 'in',\n 'Bezug',\n 'auf',\n 'sich',\n 'selbst',\n 'sehr',\n 'ehrenhafter',\n 'Mensch.',\n 'Er',\n 'vermochte',\n 'nicht,',\n 'sich',\n 'selbst',\n 'zu',\n 'täuschen,',\n 'sich',\n 'zu',\n 'versichern,',\n 'daß',\n 'ihn',\n 'seine',\n 'Handlungsweise',\n 'gereue.',\n 'Er',\n 'empfand',\n 'jetzt',\n 'nicht',\n 'einmal',\n 'Gewissensbisse',\n 'daraus,',\n 'daß',\n 'er,',\n 'ein',\n 'Mann',\n 'von',\n 'vierunddreißig',\n 'Jahren,',\n 'hübsch',\n 'und',\n 'galant,',\n 'in',\n 'sein',\n 'Weib,',\n 'die',\n 'Mutter',\n 'von',\n 'fünf',\n 'lebenden',\n 'und',\n 'zwei',\n 'toten',\n 'Kindern,',\n 'die',\n 'nur',\n 'ein',\n 'Jahr',\n 'jünger',\n 'war',\n 'als',\n 'er,',\n 'gar',\n 'nicht',\n 'verliebt',\n 'war.',\n 'Er',\n 'machte',\n 'sich',\n 'nur',\n 'Vorwürfe',\n 'darüber,',\n 'daß',\n 'er',\n 'sich',\n 'nicht',\n 'besser',\n 'vor',\n 'seinem',\n 'Weibe',\n 'zu',\n 'hüten',\n 'gewußt',\n 'hatte.',\n 'Recht',\n 'wohl',\n 'aber',\n 'empfand',\n 'er',\n 'die',\n 'ganze',\n 'Schwere',\n 'seiner',\n 'Lage',\n 'und',\n 'er',\n ...]"
     },
     "execution_count": 3,
     "metadata": {},
     "output_type": "execute_result"
    }
   ],
   "source": [
    "lines"
   ]
  },
  {
   "cell_type": "code",
   "execution_count": 4,
   "metadata": {},
   "outputs": [],
   "source": [
    "newfile = open(\"preprocessed_text.txt\", \"w\")\n",
    "newfile.write(\" \".join(lines))\n",
    "newfile.close()"
   ]
  },
  {
   "cell_type": "code",
   "execution_count": null,
   "metadata": {},
   "outputs": [],
   "source": []
  }
 ]
}